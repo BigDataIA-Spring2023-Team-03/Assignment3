{
 "cells": [
  {
   "cell_type": "markdown",
   "id": "03186cf1",
   "metadata": {},
   "source": [
    "# Edit Your Expectation Suite\n",
    "Use this notebook to recreate and modify your expectation suite:\n",
    "\n",
    "**Expectation Suite Name**: `geos_metadata_suite`\n"
   ]
  },
  {
   "cell_type": "code",
   "execution_count": 1,
   "id": "0767f0c4",
   "metadata": {},
   "outputs": [
    {
     "name": "stderr",
     "output_type": "stream",
     "text": [
      "C:\\Users\\j.videlefsky\\Anaconda3\\envs\\stenv\\lib\\inspect.py:351: FutureWarning: pandas.Float64Index is deprecated and will be removed from pandas in a future version. Use pandas.Index with the appropriate dtype instead.\n",
      "  value = getattr(object, key)\n",
      "C:\\Users\\j.videlefsky\\Anaconda3\\envs\\stenv\\lib\\inspect.py:351: FutureWarning: pandas.Int64Index is deprecated and will be removed from pandas in a future version. Use pandas.Index with the appropriate dtype instead.\n",
      "  value = getattr(object, key)\n",
      "C:\\Users\\j.videlefsky\\Anaconda3\\envs\\stenv\\lib\\inspect.py:351: FutureWarning: pandas.UInt64Index is deprecated and will be removed from pandas in a future version. Use pandas.Index with the appropriate dtype instead.\n",
      "  value = getattr(object, key)\n"
     ]
    },
    {
     "name": "stdout",
     "output_type": "stream",
     "text": [
      "2023-02-07T22:01:48-0500 - INFO - Great Expectations logging enabled at 20 level by JupyterUX module.\n",
      "2023-02-07T22:01:48-0500 - INFO - FileDataContext loading zep config\n",
      "2023-02-07T22:01:48-0500 - INFO - GxConfig.parse_yaml() failed with errors - [{'loc': ('xdatasources',), 'msg': 'field required', 'type': 'value_error.missing'}]\n",
      "2023-02-07T22:01:48-0500 - INFO - GxConfig.parse_yaml() returning empty `xdatasources`\n",
      "2023-02-07T22:01:48-0500 - INFO - Loading 'datasources' ->\n",
      "{}\n",
      "2023-02-07T22:01:48-0500 - INFO - Loaded 'datasources' ->\n",
      "{}\n",
      "Loaded ExpectationSuite \"geos_metadata_suite\" containing 13 expectations.\n"
     ]
    }
   ],
   "source": [
    "import datetime\n",
    "\n",
    "import pandas as pd\n",
    "\n",
    "import great_expectations as gx\n",
    "import great_expectations.jupyter_ux\n",
    "from great_expectations.core.expectation_configuration import ExpectationConfiguration\n",
    "from great_expectations.data_context.types.resource_identifiers import ExpectationSuiteIdentifier\n",
    "from great_expectations.exceptions import DataContextError\n",
    "\n",
    "context = gx.get_context()\n",
    "\n",
    "\n",
    "# Feel free to change the name of your suite here. Renaming this will not remove the other one.\n",
    "expectation_suite_name = \"geos_metadata_suite\"\n",
    "try:\n",
    "    suite = context.get_expectation_suite(expectation_suite_name=expectation_suite_name)\n",
    "    print(f'Loaded ExpectationSuite \"{suite.expectation_suite_name}\" containing {len(suite.expectations)} expectations.')\n",
    "except DataContextError:\n",
    "    suite = context.create_expectation_suite(expectation_suite_name=expectation_suite_name)\n",
    "    print(f'Created ExpectationSuite \"{suite.expectation_suite_name}\".')"
   ]
  },
  {
   "cell_type": "markdown",
   "id": "980c5564",
   "metadata": {},
   "source": [
    "## Create & Edit Expectations\n",
    "\n",
    "\n",
    "You are adding Expectation configurations to the suite. Since you selected manual mode, there is no sample batch of data and no validation happens during this process. See our documentation for more info and examples: **[How to create a new Expectation Suite without a sample batch](https://docs.greatexpectations.io/docs/guides/expectations/how_to_create_and_edit_expectations_based_on_domain_knowledge_without_inspecting_data_directly)**.\n",
    "\n",
    "Note that if you do use interactive mode you may specify a sample batch of data to use when creating your Expectation Suite. You can then use a `validator` to get immediate feedback on your Expectations against your specified sample batch.\n",
    "\n",
    "\n",
    "You can see all the available expectations in the **[expectation gallery](https://greatexpectations.io/expectations)**."
   ]
  },
  {
   "cell_type": "markdown",
   "id": "8fbbde6f",
   "metadata": {},
   "source": [
    "### Table Expectation(s)"
   ]
  },
  {
   "cell_type": "code",
   "execution_count": 2,
   "id": "d85cb6d7",
   "metadata": {},
   "outputs": [
    {
     "data": {
      "text/plain": [
       "{\"expectation_type\": \"expect_table_row_count_to_be_between\", \"meta\": {\"profiler_details\": {\"metric_configuration\": {\"domain_kwargs\": {}, \"metric_name\": \"table.row_count\", \"metric_value_kwargs\": null}, \"num_batches\": 1}}, \"kwargs\": {\"max_value\": 100000, \"min_value\": 0}}"
      ]
     },
     "execution_count": 2,
     "metadata": {},
     "output_type": "execute_result"
    }
   ],
   "source": [
    "\n",
    "expectation_configuration = ExpectationConfiguration(**{\n",
    "  \"kwargs\": {\n",
    "    \"max_value\": 100000,\n",
    "    \"min_value\": 0\n",
    "  },\n",
    "  \"expectation_type\": \"expect_table_row_count_to_be_between\",\n",
    "  \"meta\": {\n",
    "    \"profiler_details\": {\n",
    "      \"metric_configuration\": {\n",
    "        \"domain_kwargs\": {},\n",
    "        \"metric_name\": \"table.row_count\",\n",
    "        \"metric_value_kwargs\": None\n",
    "      },\n",
    "      \"num_batches\": 1\n",
    "    }\n",
    "  }\n",
    "})\n",
    "suite.add_expectation(expectation_configuration=expectation_configuration)"
   ]
  },
  {
   "cell_type": "code",
   "execution_count": 3,
   "id": "bcec9f1b",
   "metadata": {},
   "outputs": [
    {
     "data": {
      "text/plain": [
       "{\"expectation_type\": \"expect_compound_columns_to_be_unique\", \"meta\": {}, \"kwargs\": {\"column_list\": [\"product\", \"year\", \"day_of_year\", \"hour\"]}}"
      ]
     },
     "execution_count": 3,
     "metadata": {},
     "output_type": "execute_result"
    }
   ],
   "source": [
    "\n",
    "expectation_configuration = ExpectationConfiguration(**{\n",
    "  \"kwargs\": {\n",
    "    \"column_list\": [\n",
    "      \"product\",\n",
    "      \"year\",\n",
    "      \"day_of_year\",\n",
    "      \"hour\"\n",
    "    ]\n",
    "  },\n",
    "  \"expectation_type\": \"expect_compound_columns_to_be_unique\",\n",
    "  \"meta\": {}\n",
    "})\n",
    "suite.add_expectation(expectation_configuration=expectation_configuration)"
   ]
  },
  {
   "cell_type": "code",
   "execution_count": 4,
   "id": "196ec755",
   "metadata": {},
   "outputs": [
    {
     "data": {
      "text/plain": [
       "{\"expectation_type\": \"expect_table_columns_to_match_set\", \"meta\": {\"profiler_details\": {\"success_ratio\": 1.0}}, \"kwargs\": {\"column_set\": [\"day_of_year\", \"product\", \"year\", \"hour\"]}}"
      ]
     },
     "execution_count": 4,
     "metadata": {},
     "output_type": "execute_result"
    }
   ],
   "source": [
    "\n",
    "expectation_configuration = ExpectationConfiguration(**{\n",
    "  \"kwargs\": {\n",
    "    \"column_set\": [\n",
    "      \"day_of_year\",\n",
    "      \"product\",\n",
    "      \"year\",\n",
    "      \"hour\"\n",
    "    ]\n",
    "  },\n",
    "  \"expectation_type\": \"expect_table_columns_to_match_set\",\n",
    "  \"meta\": {\n",
    "    \"profiler_details\": {\n",
    "      \"success_ratio\": 1.0\n",
    "    }\n",
    "  }\n",
    "})\n",
    "suite.add_expectation(expectation_configuration=expectation_configuration)"
   ]
  },
  {
   "cell_type": "markdown",
   "id": "0816a586",
   "metadata": {},
   "source": [
    "### Column Expectation(s)"
   ]
  },
  {
   "cell_type": "markdown",
   "id": "0d8a7d96",
   "metadata": {},
   "source": [
    "#### `product`"
   ]
  },
  {
   "cell_type": "code",
   "execution_count": 5,
   "id": "31deb9b1",
   "metadata": {},
   "outputs": [
    {
     "data": {
      "text/plain": [
       "{\"expectation_type\": \"expect_column_values_to_not_be_null\", \"meta\": {}, \"kwargs\": {\"column\": \"product\"}}"
      ]
     },
     "execution_count": 5,
     "metadata": {},
     "output_type": "execute_result"
    }
   ],
   "source": [
    "\n",
    "expectation_configuration = ExpectationConfiguration(**{\n",
    "  \"kwargs\": {\n",
    "    \"column\": \"product\"\n",
    "  },\n",
    "  \"expectation_type\": \"expect_column_values_to_not_be_null\",\n",
    "  \"meta\": {}\n",
    "})\n",
    "suite.add_expectation(expectation_configuration=expectation_configuration)"
   ]
  },
  {
   "cell_type": "code",
   "execution_count": 6,
   "id": "80cd8f27",
   "metadata": {},
   "outputs": [
    {
     "data": {
      "text/plain": [
       "{\"expectation_type\": \"expect_column_values_to_be_in_set\", \"meta\": {}, \"kwargs\": {\"column\": \"product\", \"value_set\": [\"ABI-L1b-RadC\"]}}"
      ]
     },
     "execution_count": 6,
     "metadata": {},
     "output_type": "execute_result"
    }
   ],
   "source": [
    "\n",
    "expectation_configuration = ExpectationConfiguration(**{\n",
    "  \"kwargs\": {\n",
    "    \"column\": \"product\",\n",
    "    \"value_set\": [\n",
    "      \"ABI-L1b-RadC\"\n",
    "    ]\n",
    "  },\n",
    "  \"expectation_type\": \"expect_column_values_to_be_in_set\",\n",
    "  \"meta\": {}\n",
    "})\n",
    "suite.add_expectation(expectation_configuration=expectation_configuration)"
   ]
  },
  {
   "cell_type": "markdown",
   "id": "581af935",
   "metadata": {},
   "source": [
    "#### `year`"
   ]
  },
  {
   "cell_type": "code",
   "execution_count": 7,
   "id": "2e5e65b9",
   "metadata": {},
   "outputs": [
    {
     "data": {
      "text/plain": [
       "{\"expectation_type\": \"expect_column_values_to_not_be_null\", \"meta\": {}, \"kwargs\": {\"column\": \"year\"}}"
      ]
     },
     "execution_count": 7,
     "metadata": {},
     "output_type": "execute_result"
    }
   ],
   "source": [
    "\n",
    "expectation_configuration = ExpectationConfiguration(**{\n",
    "  \"kwargs\": {\n",
    "    \"column\": \"year\"\n",
    "  },\n",
    "  \"expectation_type\": \"expect_column_values_to_not_be_null\",\n",
    "  \"meta\": {}\n",
    "})\n",
    "suite.add_expectation(expectation_configuration=expectation_configuration)"
   ]
  },
  {
   "cell_type": "code",
   "execution_count": 8,
   "id": "b0feb72d",
   "metadata": {},
   "outputs": [
    {
     "data": {
      "text/plain": [
       "{\"expectation_type\": \"expect_column_values_to_be_in_set\", \"meta\": {}, \"kwargs\": {\"column\": \"year\", \"value_set\": [2022, 2023]}}"
      ]
     },
     "execution_count": 8,
     "metadata": {},
     "output_type": "execute_result"
    }
   ],
   "source": [
    "\n",
    "expectation_configuration = ExpectationConfiguration(**{\n",
    "  \"kwargs\": {\n",
    "    \"column\": \"year\",\n",
    "    \"value_set\": [\n",
    "      2022,\n",
    "      2023\n",
    "    ]\n",
    "  },\n",
    "  \"expectation_type\": \"expect_column_values_to_be_in_set\",\n",
    "  \"meta\": {}\n",
    "})\n",
    "suite.add_expectation(expectation_configuration=expectation_configuration)"
   ]
  },
  {
   "cell_type": "markdown",
   "id": "998a3aa6",
   "metadata": {},
   "source": [
    "#### `day_of_year`"
   ]
  },
  {
   "cell_type": "code",
   "execution_count": 9,
   "id": "4d1b5417",
   "metadata": {},
   "outputs": [
    {
     "data": {
      "text/plain": [
       "{\"expectation_type\": \"expect_column_values_to_not_be_null\", \"meta\": {}, \"kwargs\": {\"column\": \"day_of_year\"}}"
      ]
     },
     "execution_count": 9,
     "metadata": {},
     "output_type": "execute_result"
    }
   ],
   "source": [
    "\n",
    "expectation_configuration = ExpectationConfiguration(**{\n",
    "  \"kwargs\": {\n",
    "    \"column\": \"day_of_year\"\n",
    "  },\n",
    "  \"expectation_type\": \"expect_column_values_to_not_be_null\",\n",
    "  \"meta\": {}\n",
    "})\n",
    "suite.add_expectation(expectation_configuration=expectation_configuration)"
   ]
  },
  {
   "cell_type": "code",
   "execution_count": 10,
   "id": "baf41d06",
   "metadata": {},
   "outputs": [
    {
     "data": {
      "text/plain": [
       "{\"expectation_type\": \"expect_column_values_to_be_between\", \"meta\": {}, \"kwargs\": {\"allow_cross_type_comparisons\": true, \"column\": \"day_of_year\", \"max_value\": 365, \"min_value\": 0}}"
      ]
     },
     "execution_count": 10,
     "metadata": {},
     "output_type": "execute_result"
    }
   ],
   "source": [
    "\n",
    "expectation_configuration = ExpectationConfiguration(**{\n",
    "  \"kwargs\": {\n",
    "    \"allow_cross_type_comparisons\": True,\n",
    "    \"column\": \"day_of_year\",\n",
    "    \"max_value\": 365,\n",
    "    \"min_value\": 0\n",
    "  },\n",
    "  \"expectation_type\": \"expect_column_values_to_be_between\",\n",
    "  \"meta\": {}\n",
    "})\n",
    "suite.add_expectation(expectation_configuration=expectation_configuration)"
   ]
  },
  {
   "cell_type": "code",
   "execution_count": 18,
   "id": "234dcb07",
   "metadata": {},
   "outputs": [
    {
     "data": {
      "text/plain": [
       "{\"expectation_type\": \"expect_column_value_lengths_to_equal\", \"meta\": {}, \"kwargs\": {\"allow_cross_type_comparisons\": true, \"column\": \"day_of_year\", \"value\": 2}}"
      ]
     },
     "execution_count": 18,
     "metadata": {},
     "output_type": "execute_result"
    }
   ],
   "source": [
    "\n",
    "expectation_configuration = ExpectationConfiguration(**{\n",
    "  \"kwargs\": {\n",
    "    \"allow_cross_type_comparisons\": True,\n",
    "    \"column\": \"day_of_year\",\n",
    "    \"value\": 2\n",
    "  },\n",
    "  \"expectation_type\": \"expect_column_value_lengths_to_equal\",\n",
    "  \"meta\": {}\n",
    "})\n",
    "suite.add_expectation(expectation_configuration=expectation_configuration)"
   ]
  },
  {
   "cell_type": "markdown",
   "id": "2fa603a5",
   "metadata": {},
   "source": [
    "#### `hour`"
   ]
  },
  {
   "cell_type": "code",
   "execution_count": 13,
   "id": "05497078",
   "metadata": {},
   "outputs": [
    {
     "data": {
      "text/plain": [
       "{\"expectation_type\": \"expect_column_values_to_not_be_null\", \"meta\": {}, \"kwargs\": {\"column\": \"hour\"}}"
      ]
     },
     "execution_count": 13,
     "metadata": {},
     "output_type": "execute_result"
    }
   ],
   "source": [
    "\n",
    "expectation_configuration = ExpectationConfiguration(**{\n",
    "  \"kwargs\": {\n",
    "    \"column\": \"hour\"\n",
    "  },\n",
    "  \"expectation_type\": \"expect_column_values_to_not_be_null\",\n",
    "  \"meta\": {}\n",
    "})\n",
    "suite.add_expectation(expectation_configuration=expectation_configuration)"
   ]
  },
  {
   "cell_type": "code",
   "execution_count": 14,
   "id": "e65a24b4",
   "metadata": {},
   "outputs": [
    {
     "data": {
      "text/plain": [
       "{\"expectation_type\": \"expect_column_values_to_be_between\", \"meta\": {}, \"kwargs\": {\"allow_cross_type_comparisons\": true, \"column\": \"hour\", \"max_value\": 23, \"min_value\": 0}}"
      ]
     },
     "execution_count": 14,
     "metadata": {},
     "output_type": "execute_result"
    }
   ],
   "source": [
    "\n",
    "expectation_configuration = ExpectationConfiguration(**{\n",
    "  \"kwargs\": {\n",
    "    \"allow_cross_type_comparisons\": True,\n",
    "    \"column\": \"hour\",\n",
    "    \"max_value\": 23,\n",
    "    \"min_value\": 0\n",
    "  },\n",
    "  \"expectation_type\": \"expect_column_values_to_be_between\",\n",
    "  \"meta\": {}\n",
    "})\n",
    "suite.add_expectation(expectation_configuration=expectation_configuration)"
   ]
  },
  {
   "cell_type": "code",
   "execution_count": 17,
   "id": "6f806405",
   "metadata": {},
   "outputs": [
    {
     "data": {
      "text/plain": [
       "{\"expectation_type\": \"expect_column_value_lengths_to_equal\", \"meta\": {}, \"kwargs\": {\"allow_cross_type_comparisons\": true, \"column\": \"hour\", \"value\": 2}}"
      ]
     },
     "execution_count": 17,
     "metadata": {},
     "output_type": "execute_result"
    }
   ],
   "source": [
    "\n",
    "expectation_configuration = ExpectationConfiguration(**{\n",
    "  \"kwargs\": {\n",
    "    \"allow_cross_type_comparisons\": True,\n",
    "    \"column\": \"hour\",\n",
    "    \"value\": 2\n",
    "  },\n",
    "  \"expectation_type\": \"expect_column_value_lengths_to_equal\",\n",
    "  \"meta\": {}\n",
    "})\n",
    "suite.add_expectation(expectation_configuration=expectation_configuration)"
   ]
  },
  {
   "cell_type": "markdown",
   "id": "d9342ece",
   "metadata": {},
   "source": [
    "### Remove Erroneous Expectations"
   ]
  },
  {
   "cell_type": "code",
   "execution_count": null,
   "id": "791364c0",
   "metadata": {},
   "outputs": [],
   "source": []
  },
  {
   "cell_type": "markdown",
   "id": "6c81121c",
   "metadata": {},
   "source": [
    "## Review & Save Your Expectations\n",
    "\n",
    "Let's save the expectation suite as a JSON file in the `great_expectations/expectations` directory of your project.\n",
    "\n",
    "Let's now rebuild your Data Docs, which helps you communicate about your data with both machines and humans."
   ]
  },
  {
   "cell_type": "code",
   "execution_count": 16,
   "id": "542e45de",
   "metadata": {},
   "outputs": [
    {
     "name": "stdout",
     "output_type": "stream",
     "text": [
      "{\n",
      "  \"meta\": {\n",
      "    \"citations\": [\n",
      "      {\n",
      "        \"citation_date\": \"2023-02-07T21:18:55.098289Z\",\n",
      "        \"comment\": \"Created by effective Rule-Based Profiler of OnboardingDataAssistant with the configuration included.\\n\"\n",
      "      }\n",
      "    ],\n",
      "    \"great_expectations_version\": \"0.15.46\"\n",
      "  },\n",
      "  \"expectation_suite_name\": \"geos_metadata_suite\",\n",
      "  \"expectations\": [\n",
      "    {\n",
      "      \"expectation_type\": \"expect_table_row_count_to_be_between\",\n",
      "      \"meta\": {\n",
      "        \"profiler_details\": {\n",
      "          \"metric_configuration\": {\n",
      "            \"domain_kwargs\": {},\n",
      "            \"metric_name\": \"table.row_count\",\n",
      "            \"metric_value_kwargs\": null\n",
      "          },\n",
      "          \"num_batches\": 1\n",
      "        }\n",
      "      },\n",
      "      \"kwargs\": {\n",
      "        \"max_value\": 100000,\n",
      "        \"min_value\": 0\n",
      "      }\n",
      "    },\n",
      "    {\n",
      "      \"expectation_type\": \"expect_compound_columns_to_be_unique\",\n",
      "      \"meta\": {},\n",
      "      \"kwargs\": {\n",
      "        \"column_list\": [\n",
      "          \"product\",\n",
      "          \"year\",\n",
      "          \"day_of_year\",\n",
      "          \"hour\"\n",
      "        ]\n",
      "      }\n",
      "    },\n",
      "    {\n",
      "      \"expectation_type\": \"expect_column_values_to_not_be_null\",\n",
      "      \"meta\": {},\n",
      "      \"kwargs\": {\n",
      "        \"column\": \"product\"\n",
      "      }\n",
      "    },\n",
      "    {\n",
      "      \"expectation_type\": \"expect_column_values_to_not_be_null\",\n",
      "      \"meta\": {},\n",
      "      \"kwargs\": {\n",
      "        \"column\": \"year\"\n",
      "      }\n",
      "    },\n",
      "    {\n",
      "      \"expectation_type\": \"expect_column_values_to_not_be_null\",\n",
      "      \"meta\": {},\n",
      "      \"kwargs\": {\n",
      "        \"column\": \"day_of_year\"\n",
      "      }\n",
      "    },\n",
      "    {\n",
      "      \"expectation_type\": \"expect_column_values_to_not_be_null\",\n",
      "      \"meta\": {},\n",
      "      \"kwargs\": {\n",
      "        \"column\": \"hour\"\n",
      "      }\n",
      "    },\n",
      "    {\n",
      "      \"expectation_type\": \"expect_column_values_to_be_in_set\",\n",
      "      \"meta\": {},\n",
      "      \"kwargs\": {\n",
      "        \"column\": \"product\",\n",
      "        \"value_set\": [\n",
      "          \"ABI-L1b-RadC\"\n",
      "        ]\n",
      "      }\n",
      "    },\n",
      "    {\n",
      "      \"expectation_type\": \"expect_column_values_to_be_in_set\",\n",
      "      \"meta\": {},\n",
      "      \"kwargs\": {\n",
      "        \"column\": \"year\",\n",
      "        \"value_set\": [\n",
      "          2022,\n",
      "          2023\n",
      "        ]\n",
      "      }\n",
      "    },\n",
      "    {\n",
      "      \"expectation_type\": \"expect_column_values_to_be_between\",\n",
      "      \"meta\": {},\n",
      "      \"kwargs\": {\n",
      "        \"allow_cross_type_comparisons\": true,\n",
      "        \"column\": \"day_of_year\",\n",
      "        \"max_value\": 365,\n",
      "        \"min_value\": 0\n",
      "      }\n",
      "    },\n",
      "    {\n",
      "      \"expectation_type\": \"expect_column_values_to_be_between\",\n",
      "      \"meta\": {},\n",
      "      \"kwargs\": {\n",
      "        \"allow_cross_type_comparisons\": true,\n",
      "        \"column\": \"hour\",\n",
      "        \"max_value\": 23,\n",
      "        \"min_value\": 0\n",
      "      }\n",
      "    },\n",
      "    {\n",
      "      \"expectation_type\": \"expect_table_columns_to_match_set\",\n",
      "      \"meta\": {\n",
      "        \"profiler_details\": {\n",
      "          \"success_ratio\": 1.0\n",
      "        }\n",
      "      },\n",
      "      \"kwargs\": {\n",
      "        \"column_set\": [\n",
      "          \"day_of_year\",\n",
      "          \"product\",\n",
      "          \"year\",\n",
      "          \"hour\"\n",
      "        ]\n",
      "      }\n",
      "    },\n",
      "    {\n",
      "      \"expectation_type\": \"expect_column_values_lenths_to_equal\",\n",
      "      \"meta\": {},\n",
      "      \"kwargs\": {\n",
      "        \"allow_cross_type_comparisons\": true,\n",
      "        \"column\": \"day_of_year\",\n",
      "        \"value\": 2\n",
      "      }\n",
      "    },\n",
      "    {\n",
      "      \"expectation_type\": \"expect_column_values_lenths_to_equal\",\n",
      "      \"meta\": {},\n",
      "      \"kwargs\": {\n",
      "        \"allow_cross_type_comparisons\": true,\n",
      "        \"column\": \"hour\",\n",
      "        \"value\": 2\n",
      "      }\n",
      "    }\n",
      "  ],\n",
      "  \"data_asset_type\": null,\n",
      "  \"ge_cloud_id\": null\n",
      "}\n"
     ]
    }
   ],
   "source": [
    "print(context.get_expectation_suite(expectation_suite_name=expectation_suite_name))\n",
    "context.save_expectation_suite(expectation_suite=suite, expectation_suite_name=expectation_suite_name)\n",
    "\n",
    "suite_identifier = ExpectationSuiteIdentifier(expectation_suite_name=expectation_suite_name)\n",
    "context.build_data_docs(resource_identifiers=[suite_identifier])\n",
    "context.open_data_docs(resource_identifier=suite_identifier)"
   ]
  }
 ],
 "metadata": {
  "kernelspec": {
   "display_name": "Python 3 (ipykernel)",
   "language": "python",
   "name": "python3"
  },
  "language_info": {
   "codemirror_mode": {
    "name": "ipython",
    "version": 3
   },
   "file_extension": ".py",
   "mimetype": "text/x-python",
   "name": "python",
   "nbconvert_exporter": "python",
   "pygments_lexer": "ipython3",
   "version": "3.9.16"
  }
 },
 "nbformat": 4,
 "nbformat_minor": 5
}
