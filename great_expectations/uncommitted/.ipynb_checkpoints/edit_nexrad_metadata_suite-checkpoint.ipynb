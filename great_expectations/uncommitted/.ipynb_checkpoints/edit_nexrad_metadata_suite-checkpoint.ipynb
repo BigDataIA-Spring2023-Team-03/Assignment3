{
 "cells": [
  {
   "cell_type": "markdown",
   "id": "43979173",
   "metadata": {},
   "source": [
    "# Edit Your Expectation Suite\n",
    "Use this notebook to recreate and modify your expectation suite:\n",
    "\n",
    "**Expectation Suite Name**: `nexrad_metadata_suite`\n"
   ]
  },
  {
   "cell_type": "code",
   "execution_count": 1,
   "id": "ae8a5143",
   "metadata": {},
   "outputs": [
    {
     "name": "stdout",
     "output_type": "stream",
     "text": [
      "2023-02-07T20:07:44-0500 - INFO - Great Expectations logging enabled at 20 level by JupyterUX module.\n",
      "2023-02-07T20:07:44-0500 - INFO - FileDataContext loading zep config\n",
      "2023-02-07T20:07:44-0500 - INFO - GxConfig.parse_yaml() failed with errors - [{'loc': ('xdatasources',), 'msg': 'field required', 'type': 'value_error.missing'}]\n",
      "2023-02-07T20:07:44-0500 - INFO - GxConfig.parse_yaml() returning empty `xdatasources`\n",
      "2023-02-07T20:07:44-0500 - INFO - Loading 'datasources' ->\n",
      "{}\n",
      "2023-02-07T20:07:44-0500 - INFO - Loaded 'datasources' ->\n",
      "{}\n",
      "Loaded ExpectationSuite \"nexrad_metadata_suite\" containing 10 expectations.\n"
     ]
    }
   ],
   "source": [
    "import datetime\n",
    "\n",
    "import pandas as pd\n",
    "\n",
    "import great_expectations as gx\n",
    "import great_expectations.jupyter_ux\n",
    "from great_expectations.core.expectation_configuration import ExpectationConfiguration\n",
    "from great_expectations.data_context.types.resource_identifiers import ExpectationSuiteIdentifier\n",
    "from great_expectations.exceptions import DataContextError\n",
    "\n",
    "context = gx.get_context()\n",
    "\n",
    "\n",
    "# Feel free to change the name of your suite here. Renaming this will not remove the other one.\n",
    "expectation_suite_name = \"nexrad_metadata_suite\"\n",
    "try:\n",
    "    suite = context.get_expectation_suite(expectation_suite_name=expectation_suite_name)\n",
    "    print(f'Loaded ExpectationSuite \"{suite.expectation_suite_name}\" containing {len(suite.expectations)} expectations.')\n",
    "except DataContextError:\n",
    "    suite = context.create_expectation_suite(expectation_suite_name=expectation_suite_name)\n",
    "    print(f'Created ExpectationSuite \"{suite.expectation_suite_name}\".')"
   ]
  },
  {
   "cell_type": "markdown",
   "id": "3a0be29f",
   "metadata": {},
   "source": [
    "## Create & Edit Expectations\n",
    "\n",
    "\n",
    "You are adding Expectation configurations to the suite. Since you selected manual mode, there is no sample batch of data and no validation happens during this process. See our documentation for more info and examples: **[How to create a new Expectation Suite without a sample batch](https://docs.greatexpectations.io/docs/guides/expectations/how_to_create_and_edit_expectations_based_on_domain_knowledge_without_inspecting_data_directly)**.\n",
    "\n",
    "Note that if you do use interactive mode you may specify a sample batch of data to use when creating your Expectation Suite. You can then use a `validator` to get immediate feedback on your Expectations against your specified sample batch.\n",
    "\n",
    "\n",
    "You can see all the available expectations in the **[expectation gallery](https://greatexpectations.io/expectations)**."
   ]
  },
  {
   "cell_type": "markdown",
   "id": "cc8203da",
   "metadata": {},
   "source": [
    "### Table Expectation(s)"
   ]
  },
  {
   "cell_type": "code",
   "execution_count": 2,
   "id": "19aed292",
   "metadata": {},
   "outputs": [
    {
     "data": {
      "text/plain": [
       "{\"meta\": {\"profiler_details\": {\"metric_configuration\": {\"domain_kwargs\": {}, \"metric_name\": \"table.row_count\", \"metric_value_kwargs\": null}, \"num_batches\": 1}}, \"expectation_type\": \"expect_table_row_count_to_be_between\", \"kwargs\": {\"max_value\": 100000, \"min_value\": 0}}"
      ]
     },
     "execution_count": 2,
     "metadata": {},
     "output_type": "execute_result"
    }
   ],
   "source": [
    "\n",
    "expectation_configuration = ExpectationConfiguration(**{\n",
    "  \"kwargs\": {\n",
    "    \"max_value\": 100000,\n",
    "    \"min_value\": 0\n",
    "  },\n",
    "  \"meta\": {\n",
    "    \"profiler_details\": {\n",
    "      \"metric_configuration\": {\n",
    "        \"domain_kwargs\": {},\n",
    "        \"metric_name\": \"table.row_count\",\n",
    "        \"metric_value_kwargs\": None\n",
    "      },\n",
    "      \"num_batches\": 1\n",
    "    }\n",
    "  },\n",
    "  \"expectation_type\": \"expect_table_row_count_to_be_between\"\n",
    "})\n",
    "suite.add_expectation(expectation_configuration=expectation_configuration)"
   ]
  },
  {
   "cell_type": "code",
   "execution_count": 3,
   "id": "63163df5",
   "metadata": {},
   "outputs": [
    {
     "data": {
      "text/plain": [
       "{\"meta\": {\"profiler_details\": {\"success_ratio\": 1.0}}, \"expectation_type\": \"expect_table_columns_to_match_set\", \"kwargs\": {\"column_set\": [\"day\", \"station\", \"year\", \"month\"]}}"
      ]
     },
     "execution_count": 3,
     "metadata": {},
     "output_type": "execute_result"
    }
   ],
   "source": [
    "\n",
    "expectation_configuration = ExpectationConfiguration(**{\n",
    "  \"kwargs\": {\n",
    "    \"column_set\": [\n",
    "      \"day\",\n",
    "      \"station\",\n",
    "      \"year\",\n",
    "      \"month\"\n",
    "    ]\n",
    "  },\n",
    "  \"meta\": {\n",
    "    \"profiler_details\": {\n",
    "      \"success_ratio\": 1.0\n",
    "    }\n",
    "  },\n",
    "  \"expectation_type\": \"expect_table_columns_to_match_set\"\n",
    "})\n",
    "suite.add_expectation(expectation_configuration=expectation_configuration)"
   ]
  },
  {
   "cell_type": "code",
   "execution_count": 4,
   "id": "66b4cbbb",
   "metadata": {},
   "outputs": [
    {
     "data": {
      "text/plain": [
       "{\"meta\": {}, \"expectation_type\": \"expect_compound_columns_to_be_unique\", \"kwargs\": {\"column_list\": [\"station\", \"year\", \"day\", \"month\"]}}"
      ]
     },
     "execution_count": 4,
     "metadata": {},
     "output_type": "execute_result"
    }
   ],
   "source": [
    "\n",
    "expectation_configuration = ExpectationConfiguration(**{\n",
    "  \"kwargs\": {\n",
    "    \"column_list\": [\n",
    "      \"station\",\n",
    "      \"year\",\n",
    "      \"day\",\n",
    "      \"month\"\n",
    "    ]\n",
    "  },\n",
    "  \"meta\": {},\n",
    "  \"expectation_type\": \"expect_compound_columns_to_be_unique\"\n",
    "})\n",
    "suite.add_expectation(expectation_configuration=expectation_configuration)"
   ]
  },
  {
   "cell_type": "markdown",
   "id": "a7577120",
   "metadata": {},
   "source": [
    "### Column Expectation(s)"
   ]
  },
  {
   "cell_type": "markdown",
   "id": "5b84ffb9",
   "metadata": {},
   "source": [
    "#### `year`"
   ]
  },
  {
   "cell_type": "code",
   "execution_count": 5,
   "id": "5868b36a",
   "metadata": {},
   "outputs": [
    {
     "data": {
      "text/plain": [
       "{\"meta\": {}, \"expectation_type\": \"expect_column_values_to_not_be_null\", \"kwargs\": {\"column\": \"year\"}}"
      ]
     },
     "execution_count": 5,
     "metadata": {},
     "output_type": "execute_result"
    }
   ],
   "source": [
    "\n",
    "expectation_configuration = ExpectationConfiguration(**{\n",
    "  \"kwargs\": {\n",
    "    \"column\": \"year\"\n",
    "  },\n",
    "  \"meta\": {},\n",
    "  \"expectation_type\": \"expect_column_values_to_not_be_null\"\n",
    "})\n",
    "suite.add_expectation(expectation_configuration=expectation_configuration)"
   ]
  },
  {
   "cell_type": "code",
   "execution_count": 6,
   "id": "4ebc4bfd",
   "metadata": {},
   "outputs": [
    {
     "data": {
      "text/plain": [
       "{\"meta\": {}, \"expectation_type\": \"expect_column_values_to_be_in_set\", \"kwargs\": {\"column\": \"year\", \"value_set\": [2022, 2023]}}"
      ]
     },
     "execution_count": 6,
     "metadata": {},
     "output_type": "execute_result"
    }
   ],
   "source": [
    "\n",
    "expectation_configuration = ExpectationConfiguration(**{\n",
    "  \"kwargs\": {\n",
    "    \"column\": \"year\",\n",
    "    \"value_set\": [\n",
    "      2022,\n",
    "      2023\n",
    "    ]\n",
    "  },\n",
    "  \"meta\": {},\n",
    "  \"expectation_type\": \"expect_column_values_to_be_in_set\"\n",
    "})\n",
    "suite.add_expectation(expectation_configuration=expectation_configuration)"
   ]
  },
  {
   "cell_type": "markdown",
   "id": "d5dce334",
   "metadata": {},
   "source": [
    "#### `month`"
   ]
  },
  {
   "cell_type": "code",
   "execution_count": 7,
   "id": "0d19a598",
   "metadata": {},
   "outputs": [
    {
     "data": {
      "text/plain": [
       "{\"meta\": {}, \"expectation_type\": \"expect_column_values_to_not_be_null\", \"kwargs\": {\"column\": \"month\"}}"
      ]
     },
     "execution_count": 7,
     "metadata": {},
     "output_type": "execute_result"
    }
   ],
   "source": [
    "\n",
    "expectation_configuration = ExpectationConfiguration(**{\n",
    "  \"kwargs\": {\n",
    "    \"column\": \"month\"\n",
    "  },\n",
    "  \"meta\": {},\n",
    "  \"expectation_type\": \"expect_column_values_to_not_be_null\"\n",
    "})\n",
    "suite.add_expectation(expectation_configuration=expectation_configuration)"
   ]
  },
  {
   "cell_type": "code",
   "execution_count": 8,
   "id": "4fde7668",
   "metadata": {},
   "outputs": [
    {
     "data": {
      "text/plain": [
       "{\"meta\": {}, \"expectation_type\": \"expect_column_values_to_be_between\", \"kwargs\": {\"allow_cross_type_comparisons\": true, \"column\": \"month\", \"max_value\": 12, \"min_value\": 1}}"
      ]
     },
     "execution_count": 8,
     "metadata": {},
     "output_type": "execute_result"
    }
   ],
   "source": [
    "\n",
    "expectation_configuration = ExpectationConfiguration(**{\n",
    "  \"kwargs\": {\n",
    "    \"allow_cross_type_comparisons\": True,\n",
    "    \"column\": \"month\",\n",
    "    \"max_value\": 12,\n",
    "    \"min_value\": 1\n",
    "  },\n",
    "  \"meta\": {},\n",
    "  \"expectation_type\": \"expect_column_values_to_be_between\"\n",
    "})\n",
    "suite.add_expectation(expectation_configuration=expectation_configuration)"
   ]
  },
  {
   "cell_type": "markdown",
   "id": "381b5329",
   "metadata": {},
   "source": [
    "#### `day`"
   ]
  },
  {
   "cell_type": "code",
   "execution_count": 9,
   "id": "6f9b2534",
   "metadata": {},
   "outputs": [
    {
     "data": {
      "text/plain": [
       "{\"meta\": {}, \"expectation_type\": \"expect_column_values_to_not_be_null\", \"kwargs\": {\"column\": \"day\"}}"
      ]
     },
     "execution_count": 9,
     "metadata": {},
     "output_type": "execute_result"
    }
   ],
   "source": [
    "\n",
    "expectation_configuration = ExpectationConfiguration(**{\n",
    "  \"kwargs\": {\n",
    "    \"column\": \"day\"\n",
    "  },\n",
    "  \"meta\": {},\n",
    "  \"expectation_type\": \"expect_column_values_to_not_be_null\"\n",
    "})\n",
    "suite.add_expectation(expectation_configuration=expectation_configuration)"
   ]
  },
  {
   "cell_type": "code",
   "execution_count": 10,
   "id": "d41eb968",
   "metadata": {},
   "outputs": [
    {
     "data": {
      "text/plain": [
       "{\"meta\": {}, \"expectation_type\": \"expect_column_values_to_be_between\", \"kwargs\": {\"allow_cross_type_comparisons\": true, \"column\": \"day\", \"max_value\": 31, \"min_value\": 1}}"
      ]
     },
     "execution_count": 10,
     "metadata": {},
     "output_type": "execute_result"
    }
   ],
   "source": [
    "\n",
    "expectation_configuration = ExpectationConfiguration(**{\n",
    "  \"kwargs\": {\n",
    "    \"allow_cross_type_comparisons\": True,\n",
    "    \"column\": \"day\",\n",
    "    \"max_value\": 31,\n",
    "    \"min_value\": 1\n",
    "  },\n",
    "  \"meta\": {},\n",
    "  \"expectation_type\": \"expect_column_values_to_be_between\"\n",
    "})\n",
    "suite.add_expectation(expectation_configuration=expectation_configuration)"
   ]
  },
  {
   "cell_type": "markdown",
   "id": "5d37a8b7",
   "metadata": {},
   "source": [
    "#### `station`"
   ]
  },
  {
   "cell_type": "code",
   "execution_count": 11,
   "id": "484664e6",
   "metadata": {},
   "outputs": [
    {
     "data": {
      "text/plain": [
       "{\"meta\": {}, \"expectation_type\": \"expect_column_values_to_not_be_null\", \"kwargs\": {\"column\": \"station\"}}"
      ]
     },
     "execution_count": 11,
     "metadata": {},
     "output_type": "execute_result"
    }
   ],
   "source": [
    "\n",
    "expectation_configuration = ExpectationConfiguration(**{\n",
    "  \"kwargs\": {\n",
    "    \"column\": \"station\"\n",
    "  },\n",
    "  \"meta\": {},\n",
    "  \"expectation_type\": \"expect_column_values_to_not_be_null\"\n",
    "})\n",
    "suite.add_expectation(expectation_configuration=expectation_configuration)"
   ]
  },
  {
   "cell_type": "markdown",
   "id": "ea91cff1",
   "metadata": {},
   "source": [
    "## Review & Save Your Expectations\n",
    "\n",
    "Let's save the expectation suite as a JSON file in the `great_expectations/expectations` directory of your project.\n",
    "\n",
    "Let's now rebuild your Data Docs, which helps you communicate about your data with both machines and humans."
   ]
  },
  {
   "cell_type": "code",
   "execution_count": 12,
   "id": "c89b16e6",
   "metadata": {},
   "outputs": [
    {
     "name": "stdout",
     "output_type": "stream",
     "text": [
      "{\n",
      "  \"expectation_suite_name\": \"nexrad_metadata_suite\",\n",
      "  \"data_asset_type\": null,\n",
      "  \"meta\": {\n",
      "    \"citations\": [\n",
      "      {\n",
      "        \"citation_date\": \"2023-02-08T00:51:12.972623Z\",\n",
      "        \"comment\": \"Created by effective Rule-Based Profiler of OnboardingDataAssistant with the configuration included.\\n\"\n",
      "      }\n",
      "    ],\n",
      "    \"great_expectations_version\": \"0.15.46\"\n",
      "  },\n",
      "  \"expectations\": [\n",
      "    {\n",
      "      \"meta\": {\n",
      "        \"profiler_details\": {\n",
      "          \"metric_configuration\": {\n",
      "            \"domain_kwargs\": {},\n",
      "            \"metric_name\": \"table.row_count\",\n",
      "            \"metric_value_kwargs\": null\n",
      "          },\n",
      "          \"num_batches\": 1\n",
      "        }\n",
      "      },\n",
      "      \"expectation_type\": \"expect_table_row_count_to_be_between\",\n",
      "      \"kwargs\": {\n",
      "        \"max_value\": 100000,\n",
      "        \"min_value\": 0\n",
      "      }\n",
      "    },\n",
      "    {\n",
      "      \"meta\": {\n",
      "        \"profiler_details\": {\n",
      "          \"success_ratio\": 1.0\n",
      "        }\n",
      "      },\n",
      "      \"expectation_type\": \"expect_table_columns_to_match_set\",\n",
      "      \"kwargs\": {\n",
      "        \"column_set\": [\n",
      "          \"day\",\n",
      "          \"station\",\n",
      "          \"year\",\n",
      "          \"month\"\n",
      "        ],\n",
      "        \"exact_match\": null\n",
      "      }\n",
      "    },\n",
      "    {\n",
      "      \"meta\": {},\n",
      "      \"expectation_type\": \"expect_compound_columns_to_be_unique\",\n",
      "      \"kwargs\": {\n",
      "        \"column_list\": [\n",
      "          \"station\",\n",
      "          \"year\",\n",
      "          \"day\",\n",
      "          \"month\"\n",
      "        ]\n",
      "      }\n",
      "    },\n",
      "    {\n",
      "      \"meta\": {},\n",
      "      \"expectation_type\": \"expect_column_values_to_not_be_null\",\n",
      "      \"kwargs\": {\n",
      "        \"column\": \"year\"\n",
      "      }\n",
      "    },\n",
      "    {\n",
      "      \"meta\": {},\n",
      "      \"expectation_type\": \"expect_column_values_to_not_be_null\",\n",
      "      \"kwargs\": {\n",
      "        \"column\": \"month\"\n",
      "      }\n",
      "    },\n",
      "    {\n",
      "      \"meta\": {},\n",
      "      \"expectation_type\": \"expect_column_values_to_not_be_null\",\n",
      "      \"kwargs\": {\n",
      "        \"column\": \"day\"\n",
      "      }\n",
      "    },\n",
      "    {\n",
      "      \"meta\": {},\n",
      "      \"expectation_type\": \"expect_column_values_to_not_be_null\",\n",
      "      \"kwargs\": {\n",
      "        \"column\": \"station\"\n",
      "      }\n",
      "    },\n",
      "    {\n",
      "      \"meta\": {},\n",
      "      \"expectation_type\": \"expect_column_values_to_be_in_set\",\n",
      "      \"kwargs\": {\n",
      "        \"column\": \"year\",\n",
      "        \"value_set\": [\n",
      "          2022,\n",
      "          2023\n",
      "        ]\n",
      "      }\n",
      "    },\n",
      "    {\n",
      "      \"meta\": {},\n",
      "      \"expectation_type\": \"expect_column_values_to_be_between\",\n",
      "      \"kwargs\": {\n",
      "        \"allow_cross_type_comparisons\": true,\n",
      "        \"column\": \"month\",\n",
      "        \"max_value\": 12,\n",
      "        \"min_value\": 1\n",
      "      }\n",
      "    },\n",
      "    {\n",
      "      \"meta\": {},\n",
      "      \"expectation_type\": \"expect_column_values_to_be_between\",\n",
      "      \"kwargs\": {\n",
      "        \"allow_cross_type_comparisons\": true,\n",
      "        \"column\": \"day\",\n",
      "        \"max_value\": 31,\n",
      "        \"min_value\": 1\n",
      "      }\n",
      "    }\n",
      "  ],\n",
      "  \"ge_cloud_id\": null\n",
      "}\n"
     ]
    }
   ],
   "source": [
    "print(context.get_expectation_suite(expectation_suite_name=expectation_suite_name))\n",
    "context.save_expectation_suite(expectation_suite=suite, expectation_suite_name=expectation_suite_name)\n",
    "\n",
    "suite_identifier = ExpectationSuiteIdentifier(expectation_suite_name=expectation_suite_name)\n",
    "context.build_data_docs(resource_identifiers=[suite_identifier])\n",
    "context.open_data_docs(resource_identifier=suite_identifier)"
   ]
  }
 ],
 "metadata": {
  "kernelspec": {
   "display_name": "Python 3 (ipykernel)",
   "language": "python",
   "name": "python3"
  },
  "language_info": {
   "codemirror_mode": {
    "name": "ipython",
    "version": 3
   },
   "file_extension": ".py",
   "mimetype": "text/x-python",
   "name": "python",
   "nbconvert_exporter": "python",
   "pygments_lexer": "ipython3",
   "version": "3.9.13"
  }
 },
 "nbformat": 4,
 "nbformat_minor": 5
}
